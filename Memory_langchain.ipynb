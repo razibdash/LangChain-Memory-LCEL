{
 "cells": [
  {
   "cell_type": "code",
   "execution_count": 1,
   "id": "51b9e2b7",
   "metadata": {},
   "outputs": [],
   "source": [
    "from dotenv import load_dotenv, find_dotenv\n",
    "import os\n",
    "_=load_dotenv(find_dotenv())\n",
    "GROQ_API_KEY = os.getenv(\"GROQ_API_KEY\")"
   ]
  },
  {
   "cell_type": "code",
   "execution_count": 2,
   "id": "4f616a4a",
   "metadata": {},
   "outputs": [
    {
     "name": "stderr",
     "output_type": "stream",
     "text": [
      "d:\\anaconda\\envs\\llmapp\\Lib\\site-packages\\langchain_groq\\chat_models.py:355: UserWarning: WARNING! max_completion_tokens is not default parameter.\n",
      "                    max_completion_tokens was transferred to model_kwargs.\n",
      "                    Please confirm that max_completion_tokens is what you intended.\n",
      "  warnings.warn(\n",
      "d:\\anaconda\\envs\\llmapp\\Lib\\site-packages\\langchain_groq\\chat_models.py:355: UserWarning: WARNING! top_p is not default parameter.\n",
      "                    top_p was transferred to model_kwargs.\n",
      "                    Please confirm that top_p is what you intended.\n",
      "  warnings.warn(\n"
     ]
    }
   ],
   "source": [
    "from langchain_groq import ChatGroq\n",
    "model = ChatGroq(\n",
    "    api_key=GROQ_API_KEY,\n",
    "    model=\"llama3-70b-8192\",\n",
    "    temperature=1,\n",
    "    max_completion_tokens=1024,\n",
    "    top_p=1,\n",
    ")"
   ]
  },
  {
   "cell_type": "markdown",
   "id": "7e1716d4",
   "metadata": {},
   "source": [
    "Buffer Memory ->\n",
    "ConversationBufferMemory keeps a list of chat messages in a buffer and passes those into the prompt template.\n"
   ]
  },
  {
   "cell_type": "code",
   "execution_count": 3,
   "id": "69b11de4",
   "metadata": {},
   "outputs": [],
   "source": [
    "from langchain_core.prompts import (\n",
    "    ChatPromptTemplate,\n",
    "    MessagesPlaceholder,\n",
    "    SystemMessagePromptTemplate,\n",
    "    HumanMessagePromptTemplate,\n",
    ")\n",
    "from langchain.chains import LLMChain\n",
    "from langchain.memory import ConversationBufferMemory\n",
    "\n",
    "\n",
    "prompt = ChatPromptTemplate(\n",
    "    messages=[\n",
    "        SystemMessagePromptTemplate.from_template(\n",
    "            \"You are a nice chatbot having a conversation with a human.\"\n",
    "        ),\n",
    "        # The `variable_name` here is what must align with memory\n",
    "        MessagesPlaceholder(variable_name=\"chat_history\"),\n",
    "        HumanMessagePromptTemplate.from_template(\"{question}\")\n",
    "    ]\n",
    ")"
   ]
  },
  {
   "cell_type": "code",
   "execution_count": 5,
   "id": "aa091fb3",
   "metadata": {},
   "outputs": [],
   "source": [
    "memory = ConversationBufferMemory(memory_key=\"chat_history\", return_messages=True)\n",
    "\n",
    "conversation = LLMChain(\n",
    "    llm=model,\n",
    "    prompt=prompt,\n",
    "    verbose=True,\n",
    "    memory=memory\n",
    ")"
   ]
  },
  {
   "cell_type": "code",
   "execution_count": 6,
   "id": "9b36cee8",
   "metadata": {},
   "outputs": [
    {
     "name": "stderr",
     "output_type": "stream",
     "text": [
      "C:\\Users\\DELL\\AppData\\Local\\Temp\\ipykernel_10432\\2596321432.py:1: LangChainDeprecationWarning: The method `Chain.__call__` was deprecated in langchain 0.1.0 and will be removed in 0.3.0. Use invoke instead.\n",
      "  conversation({\"question\": \"hi\"})\n"
     ]
    },
    {
     "name": "stdout",
     "output_type": "stream",
     "text": [
      "\n",
      "\n",
      "\u001b[1m> Entering new LLMChain chain...\u001b[0m\n",
      "Prompt after formatting:\n",
      "\u001b[32;1m\u001b[1;3mSystem: You are a nice chatbot having a conversation with a human.\n",
      "Human: hi\u001b[0m\n",
      "\n",
      "\u001b[1m> Finished chain.\u001b[0m\n"
     ]
    },
    {
     "data": {
      "text/plain": [
       "{'question': 'hi',\n",
       " 'chat_history': [HumanMessage(content='hi'),\n",
       "  AIMessage(content=\"Hi! It's great to meet you. How's your day going so far?\")],\n",
       " 'text': \"Hi! It's great to meet you. How's your day going so far?\"}"
      ]
     },
     "execution_count": 6,
     "metadata": {},
     "output_type": "execute_result"
    }
   ],
   "source": [
    "conversation({\"question\": \"hi\"})"
   ]
  },
  {
   "cell_type": "code",
   "execution_count": 7,
   "id": "8b55bcf5",
   "metadata": {},
   "outputs": [
    {
     "name": "stdout",
     "output_type": "stream",
     "text": [
      "\n",
      "\n",
      "\u001b[1m> Entering new LLMChain chain...\u001b[0m\n",
      "Prompt after formatting:\n",
      "\u001b[32;1m\u001b[1;3mSystem: You are a nice chatbot having a conversation with a human.\n",
      "Human: hi\n",
      "AI: Hi! It's great to meet you. How's your day going so far?\n",
      "Human: My name is Razib and I am a software engineer.\u001b[0m\n",
      "\n",
      "\u001b[1m> Finished chain.\u001b[0m\n"
     ]
    },
    {
     "data": {
      "text/plain": [
       "{'question': 'My name is Razib and I am a software engineer.',\n",
       " 'chat_history': [HumanMessage(content='hi'),\n",
       "  AIMessage(content=\"Hi! It's great to meet you. How's your day going so far?\"),\n",
       "  HumanMessage(content='My name is Razib and I am a software engineer.'),\n",
       "  AIMessage(content='Nice to meet you, Razib! As a software engineer, you must be quite skilled in problem-solving and coding. What kind of projects do you usually work on? Are you more into mobile app development, web development, or something else?')],\n",
       " 'text': 'Nice to meet you, Razib! As a software engineer, you must be quite skilled in problem-solving and coding. What kind of projects do you usually work on? Are you more into mobile app development, web development, or something else?'}"
      ]
     },
     "execution_count": 7,
     "metadata": {},
     "output_type": "execute_result"
    }
   ],
   "source": [
    "conversation({\"question\": \"My name is Razib and I am a software engineer.\"})"
   ]
  },
  {
   "cell_type": "code",
   "execution_count": 8,
   "id": "805e7fa1",
   "metadata": {},
   "outputs": [
    {
     "name": "stdout",
     "output_type": "stream",
     "text": [
      "\n",
      "\n",
      "\u001b[1m> Entering new LLMChain chain...\u001b[0m\n",
      "Prompt after formatting:\n",
      "\u001b[32;1m\u001b[1;3mSystem: You are a nice chatbot having a conversation with a human.\n",
      "Human: hi\n",
      "AI: Hi! It's great to meet you. How's your day going so far?\n",
      "Human: My name is Razib and I am a software engineer.\n",
      "AI: Nice to meet you, Razib! As a software engineer, you must be quite skilled in problem-solving and coding. What kind of projects do you usually work on? Are you more into mobile app development, web development, or something else?\n",
      "Human: What is my name? What do I do?\u001b[0m\n",
      "\n",
      "\u001b[1m> Finished chain.\u001b[0m\n"
     ]
    },
    {
     "data": {
      "text/plain": [
       "{'question': 'What is my name? What do I do?',\n",
       " 'chat_history': [HumanMessage(content='hi'),\n",
       "  AIMessage(content=\"Hi! It's great to meet you. How's your day going so far?\"),\n",
       "  HumanMessage(content='My name is Razib and I am a software engineer.'),\n",
       "  AIMessage(content='Nice to meet you, Razib! As a software engineer, you must be quite skilled in problem-solving and coding. What kind of projects do you usually work on? Are you more into mobile app development, web development, or something else?'),\n",
       "  HumanMessage(content='What is my name? What do I do?'),\n",
       "  AIMessage(content=\"Let me recall! Your name is Razib, and you're a software engineer!\")],\n",
       " 'text': \"Let me recall! Your name is Razib, and you're a software engineer!\"}"
      ]
     },
     "execution_count": 8,
     "metadata": {},
     "output_type": "execute_result"
    }
   ],
   "source": [
    "conversation({\"question\": \"What is my name? What do I do?\"})"
   ]
  },
  {
   "cell_type": "code",
   "execution_count": 9,
   "id": "58bc7468",
   "metadata": {},
   "outputs": [
    {
     "name": "stdout",
     "output_type": "stream",
     "text": [
      "[HumanMessage(content='hi'), AIMessage(content=\"Hi! It's great to meet you. How's your day going so far?\"), HumanMessage(content='My name is Razib and I am a software engineer.'), AIMessage(content='Nice to meet you, Razib! As a software engineer, you must be quite skilled in problem-solving and coding. What kind of projects do you usually work on? Are you more into mobile app development, web development, or something else?'), HumanMessage(content='What is my name? What do I do?'), AIMessage(content=\"Let me recall! Your name is Razib, and you're a software engineer!\")]\n"
     ]
    }
   ],
   "source": [
    "print(memory.buffer)"
   ]
  },
  {
   "cell_type": "markdown",
   "id": "eac9af1b",
   "metadata": {},
   "source": [
    "Conversation Buffer Window Memory\n"
   ]
  },
  {
   "cell_type": "code",
   "execution_count": 10,
   "id": "90bbbd29",
   "metadata": {},
   "outputs": [],
   "source": [
    "from langchain.memory import ConversationBufferWindowMemory\n",
    "from langchain.chains import ConversationChain"
   ]
  },
  {
   "cell_type": "code",
   "execution_count": 11,
   "id": "f62760e8",
   "metadata": {},
   "outputs": [],
   "source": [
    "window_memory = ConversationBufferWindowMemory(k=3)"
   ]
  },
  {
   "cell_type": "code",
   "execution_count": 13,
   "id": "67519d21",
   "metadata": {},
   "outputs": [
    {
     "name": "stderr",
     "output_type": "stream",
     "text": [
      "C:\\Users\\DELL\\AppData\\Local\\Temp\\ipykernel_10432\\3235191445.py:1: LangChainDeprecationWarning: The class `ConversationChain` was deprecated in LangChain 0.2.7 and will be removed in 1.0. Use RunnableWithMessageHistory: https://api.python.langchain.com/en/latest/runnables/langchain_core.runnables.history.RunnableWithMessageHistory.html instead.\n",
      "  conversation_window = ConversationChain(\n"
     ]
    }
   ],
   "source": [
    "conversation_window = ConversationChain(\n",
    "    llm=model, \n",
    "    memory = window_memory,\n",
    "    verbose=True\n",
    ")"
   ]
  },
  {
   "cell_type": "code",
   "execution_count": 14,
   "id": "344f2f8f",
   "metadata": {},
   "outputs": [
    {
     "name": "stdout",
     "output_type": "stream",
     "text": [
      "\n",
      "\n",
      "\u001b[1m> Entering new ConversationChain chain...\u001b[0m\n",
      "Prompt after formatting:\n",
      "\u001b[32;1m\u001b[1;3mThe following is a friendly conversation between a human and an AI. The AI is talkative and provides lots of specific details from its context. If the AI does not know the answer to a question, it truthfully says it does not know.\n",
      "\n",
      "Current conversation:\n",
      "\n",
      "Human: Hi, my name is Razib Dash and I am a software engineer.\n",
      "AI:\u001b[0m\n",
      "\n",
      "\u001b[1m> Finished chain.\u001b[0m\n"
     ]
    },
    {
     "data": {
      "text/plain": [
       "{'input': 'Hi, my name is Razib Dash and I am a software engineer.',\n",
       " 'history': '',\n",
       " 'response': \"Nice to meet you, Razib Dash! I'm thrilled to chat with a software engineer. I've been trained on a massive corpus of text data, including a substantial amount of material on software development. In fact, I have access to a vast knowledge base that includes information on various programming languages, frameworks, and technologies.\\n\\nI must say, I'm curious - what kind of projects have you been working on lately, Razib? Are you focused on any specific areas like mobile app development, artificial intelligence, or perhaps cloud computing?\"}"
      ]
     },
     "execution_count": 14,
     "metadata": {},
     "output_type": "execute_result"
    }
   ],
   "source": [
    "conversation_window({\"input\": \"Hi, my name is Razib Dash and I am a software engineer.\"})"
   ]
  },
  {
   "cell_type": "code",
   "execution_count": 15,
   "id": "c281f05a",
   "metadata": {},
   "outputs": [
    {
     "name": "stdout",
     "output_type": "stream",
     "text": [
      "\n",
      "\n",
      "\u001b[1m> Entering new ConversationChain chain...\u001b[0m\n",
      "Prompt after formatting:\n",
      "\u001b[32;1m\u001b[1;3mThe following is a friendly conversation between a human and an AI. The AI is talkative and provides lots of specific details from its context. If the AI does not know the answer to a question, it truthfully says it does not know.\n",
      "\n",
      "Current conversation:\n",
      "Human: Hi, my name is Razib Dash and I am a software engineer.\n",
      "AI: Nice to meet you, Razib Dash! I'm thrilled to chat with a software engineer. I've been trained on a massive corpus of text data, including a substantial amount of material on software development. In fact, I have access to a vast knowledge base that includes information on various programming languages, frameworks, and technologies.\n",
      "\n",
      "I must say, I'm curious - what kind of projects have you been working on lately, Razib? Are you focused on any specific areas like mobile app development, artificial intelligence, or perhaps cloud computing?\n",
      "Human: My favorite animals are dogs\n",
      "AI:\u001b[0m\n",
      "\n",
      "\u001b[1m> Finished chain.\u001b[0m\n"
     ]
    },
    {
     "data": {
      "text/plain": [
       "{'input': 'My favorite animals are dogs',\n",
       " 'history': \"Human: Hi, my name is Razib Dash and I am a software engineer.\\nAI: Nice to meet you, Razib Dash! I'm thrilled to chat with a software engineer. I've been trained on a massive corpus of text data, including a substantial amount of material on software development. In fact, I have access to a vast knowledge base that includes information on various programming languages, frameworks, and technologies.\\n\\nI must say, I'm curious - what kind of projects have you been working on lately, Razib? Are you focused on any specific areas like mobile app development, artificial intelligence, or perhaps cloud computing?\",\n",
       " 'response': \"Dogs, eh? I've got some fun facts about dogs! Did you know that dogs have a unique nose print, just like humans have fingerprints? And, they can hear sounds at a higher frequency than humans can! In fact, a dog's sense of smell is up to 10,000 times more sensitive than a human's.\\n\\nBy the way, do you have a favorite breed of dog, Razib? I've been trained on a vast amount of text data, including information about various dog breeds, their characteristics, and temperaments. If you're interested, I can share some fun facts about your favorite breed!\"}"
      ]
     },
     "execution_count": 15,
     "metadata": {},
     "output_type": "execute_result"
    }
   ],
   "source": [
    "conversation_window({\"input\": \"My favorite animals are dogs\"})"
   ]
  },
  {
   "cell_type": "code",
   "execution_count": 16,
   "id": "bafccb78",
   "metadata": {},
   "outputs": [
    {
     "name": "stdout",
     "output_type": "stream",
     "text": [
      "\n",
      "\n",
      "\u001b[1m> Entering new ConversationChain chain...\u001b[0m\n",
      "Prompt after formatting:\n",
      "\u001b[32;1m\u001b[1;3mThe following is a friendly conversation between a human and an AI. The AI is talkative and provides lots of specific details from its context. If the AI does not know the answer to a question, it truthfully says it does not know.\n",
      "\n",
      "Current conversation:\n",
      "Human: Hi, my name is Razib Dash and I am a software engineer.\n",
      "AI: Nice to meet you, Razib Dash! I'm thrilled to chat with a software engineer. I've been trained on a massive corpus of text data, including a substantial amount of material on software development. In fact, I have access to a vast knowledge base that includes information on various programming languages, frameworks, and technologies.\n",
      "\n",
      "I must say, I'm curious - what kind of projects have you been working on lately, Razib? Are you focused on any specific areas like mobile app development, artificial intelligence, or perhaps cloud computing?\n",
      "Human: My favorite animals are dogs\n",
      "AI: Dogs, eh? I've got some fun facts about dogs! Did you know that dogs have a unique nose print, just like humans have fingerprints? And, they can hear sounds at a higher frequency than humans can! In fact, a dog's sense of smell is up to 10,000 times more sensitive than a human's.\n",
      "\n",
      "By the way, do you have a favorite breed of dog, Razib? I've been trained on a vast amount of text data, including information about various dog breeds, their characteristics, and temperaments. If you're interested, I can share some fun facts about your favorite breed!\n",
      "Human: What is my name?\n",
      "AI:\u001b[0m\n",
      "\n",
      "\u001b[1m> Finished chain.\u001b[0m\n"
     ]
    },
    {
     "data": {
      "text/plain": [
       "{'input': 'What is my name?',\n",
       " 'history': \"Human: Hi, my name is Razib Dash and I am a software engineer.\\nAI: Nice to meet you, Razib Dash! I'm thrilled to chat with a software engineer. I've been trained on a massive corpus of text data, including a substantial amount of material on software development. In fact, I have access to a vast knowledge base that includes information on various programming languages, frameworks, and technologies.\\n\\nI must say, I'm curious - what kind of projects have you been working on lately, Razib? Are you focused on any specific areas like mobile app development, artificial intelligence, or perhaps cloud computing?\\nHuman: My favorite animals are dogs\\nAI: Dogs, eh? I've got some fun facts about dogs! Did you know that dogs have a unique nose print, just like humans have fingerprints? And, they can hear sounds at a higher frequency than humans can! In fact, a dog's sense of smell is up to 10,000 times more sensitive than a human's.\\n\\nBy the way, do you have a favorite breed of dog, Razib? I've been trained on a vast amount of text data, including information about various dog breeds, their characteristics, and temperaments. If you're interested, I can share some fun facts about your favorite breed!\",\n",
       " 'response': \"Your name is Razib Dash! We established that at the beginning of our conversation. You're a software engineer, and we've been chatting about dogs, among other things.\"}"
      ]
     },
     "execution_count": 16,
     "metadata": {},
     "output_type": "execute_result"
    }
   ],
   "source": [
    "conversation_window({\"input\": \"What is my name?\"})"
   ]
  }
 ],
 "metadata": {
  "kernelspec": {
   "display_name": "llmapp",
   "language": "python",
   "name": "python3"
  },
  "language_info": {
   "codemirror_mode": {
    "name": "ipython",
    "version": 3
   },
   "file_extension": ".py",
   "mimetype": "text/x-python",
   "name": "python",
   "nbconvert_exporter": "python",
   "pygments_lexer": "ipython3",
   "version": "3.11.13"
  }
 },
 "nbformat": 4,
 "nbformat_minor": 5
}
