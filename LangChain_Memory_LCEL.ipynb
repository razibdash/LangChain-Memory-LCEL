{
 "cells": [
  {
   "cell_type": "code",
   "execution_count": 4,
   "id": "fb0de29f",
   "metadata": {},
   "outputs": [],
   "source": [
    "from dotenv import load_dotenv, find_dotenv\n",
    "import os\n",
    "_=load_dotenv(find_dotenv())\n",
    "GROQ_API_KEY = os.getenv(\"GROQ_API_KEY\")"
   ]
  },
  {
   "cell_type": "code",
   "execution_count": 5,
   "id": "1613bd43",
   "metadata": {},
   "outputs": [
    {
     "name": "stderr",
     "output_type": "stream",
     "text": [
      "d:\\anaconda\\envs\\llmapp\\Lib\\site-packages\\langchain_groq\\chat_models.py:355: UserWarning: WARNING! max_completion_tokens is not default parameter.\n",
      "                    max_completion_tokens was transferred to model_kwargs.\n",
      "                    Please confirm that max_completion_tokens is what you intended.\n",
      "  warnings.warn(\n",
      "d:\\anaconda\\envs\\llmapp\\Lib\\site-packages\\langchain_groq\\chat_models.py:355: UserWarning: WARNING! top_p is not default parameter.\n",
      "                    top_p was transferred to model_kwargs.\n",
      "                    Please confirm that top_p is what you intended.\n",
      "  warnings.warn(\n"
     ]
    }
   ],
   "source": [
    "from langchain_groq import ChatGroq\n",
    "model = ChatGroq(\n",
    "    api_key=GROQ_API_KEY,\n",
    "    model=\"llama3-70b-8192\",\n",
    "    temperature=1,\n",
    "    max_completion_tokens=1024,\n",
    "    top_p=1,\n",
    ")"
   ]
  },
  {
   "cell_type": "code",
   "execution_count": 7,
   "id": "de8f4bee",
   "metadata": {},
   "outputs": [],
   "source": [
    "# chatprompt template and str output parser\n",
    "from langchain_core.output_parsers import StrOutputParser\n",
    "from langchain_core.prompts import ChatPromptTemplate\n",
    "prompt = ChatPromptTemplate.from_template(\"tell me a curious fact about {soccer_player}\")\n",
    "\n",
    "output_parser = StrOutputParser()"
   ]
  },
  {
   "cell_type": "code",
   "execution_count": 8,
   "id": "8b85eb1d",
   "metadata": {},
   "outputs": [
    {
     "data": {
      "text/plain": [
       "\"Here's one:\\n\\nLionel Messi has a rare medical condition called Growth Hormone Deficiency (GHD). As a child, his growth was stunted due to a hormone deficiency, and he was only 4 ft 7 in (140 cm) tall at the age of 11. His family couldn't afford the treatment, but Carles Rexach, the sporting director of FC Barcelona, was so impressed by Messi's talent that he offered to pay for the treatment if Messi joined the club's youth academy. Messi accepted the offer and began his treatment, which involved daily injections of growth hormone. He eventually grew to be 5 ft 7 in (170 cm) tall!\""
      ]
     },
     "execution_count": 8,
     "metadata": {},
     "output_type": "execute_result"
    }
   ],
   "source": [
    "chain= prompt | model | output_parser\n",
    "chain.invoke({\"soccer_player\": \"Lionel Messi\"})"
   ]
  },
  {
   "cell_type": "markdown",
   "id": "391811db",
   "metadata": {},
   "source": [
    "Use of .bind() to add arguments to a Runnable in a LCEL Chain\n"
   ]
  },
  {
   "cell_type": "code",
   "execution_count": 11,
   "id": "3a7a36ef",
   "metadata": {},
   "outputs": [
    {
     "data": {
      "text/plain": [
       "\"Here's one:\\n\\nLionel \""
      ]
     },
     "execution_count": 11,
     "metadata": {},
     "output_type": "execute_result"
    }
   ],
   "source": [
    "chain= prompt | model.bind(stop=[\"Messi\"]) | output_parser\n",
    "chain.invoke({\"soccer_player\": \"Lionel Messi\"})"
   ]
  },
  {
   "cell_type": "markdown",
   "id": "31e762c1",
   "metadata": {},
   "source": [
    "Combining LCEL Chains\n"
   ]
  },
  {
   "cell_type": "code",
   "execution_count": 12,
   "id": "ac1c1947",
   "metadata": {},
   "outputs": [
    {
     "data": {
      "text/plain": [
       "'Barack Obama was the first African American to serve as President of the United States, holding the office from 2009 to 2017.'"
      ]
     },
     "execution_count": 12,
     "metadata": {},
     "output_type": "execute_result"
    }
   ],
   "source": [
    "#Combining LCEL Chains\n",
    "prompt = ChatPromptTemplate.from_template(\"tell me a sentence about {politician}\")\n",
    "\n",
    "chain = prompt | model | StrOutputParser()\n",
    "chain.invoke({\"politician\": \"Barack Obama\"})"
   ]
  },
  {
   "cell_type": "markdown",
   "id": "3838c48a",
   "metadata": {},
   "source": [
    "Combined chain\n"
   ]
  },
  {
   "cell_type": "code",
   "execution_count": 14,
   "id": "d9153765",
   "metadata": {},
   "outputs": [
    {
     "data": {
      "text/plain": [
       "\"What a great question!\\n\\nYes, Barack Obama's presidency was a positive milestone for humanity in many ways. Here are some reasons why:\\n\\n1. **Breaking racial barriers**: Obama's election marked a historic moment in the fight against racial discrimination. He was the first African American to hold the office of President, shattering a centuries-old racial barrier. This achievement inspired hope and pride among people of color and symbolized progress towards equality.\\n2. **Symbolic significance**: Obama's presidency showed that, in the United States, a country with a complex and often painful racial history, a person of color could hold the highest office. This sent a powerful message about the American Dream being accessible to all, regardless of race or ethnicity.\\n3. **Inspirational impact**: Obama's presidency inspired a new generation of young people, particularly from minority backgrounds, to engage in politics and pursue careers in public service. His election and re-election showed that anything is possible with hard work, dedication, and determination.\\n4. **Healthcare reform**: One of Obama's signature achievements was the Affordable Care Act (ACA), also known as Obamacare. While imperfect, the ACA expanded healthcare access to millions of Americans, particularly those from low-income backgrounds, and reduced the number of uninsured individuals.\\n5. **Climate change leadership**: Obama was a crucial leader in international efforts to address climate change. He played a key role in negotiating the Paris Agreement, which aims to mitigate the effects of global warming and promote sustainable development.\\n6. **Diplomacy and international relations**: Obama's presidency was marked by a significant shift in U.S. foreign policy, with a focus on diplomacy, international cooperation, and engagement. He normalized relations with Cuba, ended the war in Iraq, and pursued a more collaborative approach to global governance.\\n7. **Economic recovery**: During Obama's presidency, the United States recovered from the Great Recession, with the economy experiencing a slow but steady growth. His administration implemented policies to stimulate job creation, invest in infrastructure, and support small businesses.\\n8. **Cultural significance**: Obama's presidency had a profound impact on American culture, with his family becoming a symbol of hope, unity, and diversity. He was a champion of progressive values, including LGBTQ+ rights, women's empowerment, and racial equity.\\n9. **Moral leadership**: Obama's presidency was marked by a strong sense of moral leadership, with an emphasis on personal responsibility, integrity, and honesty. He inspired a new generation of leaders to prioritize ethics and character in public life.\\n10. **Historic significance**: Obama's presidency will be remembered as a significant chapter in American history, marking a turning point in the country's ongoing quest for equality, justice, and democracy.\\n\\nWhile Obama's presidency was not without its challenges and controversies, his legacy has had a profoundly positive impact on humanity, inspiring hope, promoting equality, and advancing progressive values.\""
      ]
     },
     "execution_count": 14,
     "metadata": {},
     "output_type": "execute_result"
    }
   ],
   "source": [
    "historian_prompt = ChatPromptTemplate.from_template(\"Was {politician} positive for Humanity?\")\n",
    "\n",
    "composed_chain = {\"politician\": chain} | historian_prompt | model | StrOutputParser()\n",
    "composed_chain.invoke({\"politician\": \"Barack Obama\"})"
   ]
  },
  {
   "cell_type": "markdown",
   "id": "0c49306c",
   "metadata": {},
   "source": [
    "Another example: a chain inside another chain\n"
   ]
  },
  {
   "cell_type": "code",
   "execution_count": 16,
   "id": "0a7d440a",
   "metadata": {},
   "outputs": [
    {
     "data": {
      "text/plain": [
       "\"আপনি কিছু বিভ্রান্তি করছেন! বারাক ওবামা সংযুক্ত রাষ্ট্রের রাষ্ট্রপতি এবং তিনি যুক্তরাষ্ট্রের হাওয়াইতে জন্মগ্রহণ করেছেন। তার মা আন ডানহাম আমেরিকান এবং বাবা বারাক ওবামা সিনিয়র কেনিয়ান।\\n\\nঅতএব, আপনার প্রশ্নের উত্তর হিসাবে, বারাক ওবামা সংযুক্ত রাষ্ট্রের নাগরিক এবং তিনি হাওয়াইতে জন্মগ্রহণ করেছেন। তিনি হাওয়াইতে বড় হয়েছেন এবং পরে ইলিনয়ে থাকতেন, যেখানে তিনি একজন সম্প্রদায় সংগঠক, রাজ্য সভা এবং সিনেটর হিসাবে কাজ করেছেন। \\n\\n(Translation: You're thinking of some confusion! Barack Obama is the President of the United States and he was born in Hawaii, United States. His mother Ann Dunham is American and his father Barack Obama Sr. is Kenyan.\\n\\nSo, to answer your question, Barack Obama is a citizen of the United States and he was born in Hawaii. He grew up in Hawaii and later lived in Illinois, where he worked as a community organizer, state senator, and Senator.)\""
      ]
     },
     "execution_count": 16,
     "metadata": {},
     "output_type": "execute_result"
    }
   ],
   "source": [
    "from operator import itemgetter\n",
    "\n",
    "from langchain_core.output_parsers import StrOutputParser\n",
    "from langchain_core.prompts import ChatPromptTemplate\n",
    "prompt1 = ChatPromptTemplate.from_template(\"what is the country {politician} is from?\")\n",
    "prompt2 = ChatPromptTemplate.from_template(\n",
    "    \"what continent is the country {country} in? respond in {language}\"\n",
    ")\n",
    "chain1 = prompt1 | model | StrOutputParser()\n",
    "chain2=(\n",
    "    {\"country\": chain1,\"language\": itemgetter(\"language\")}\n",
    "    | prompt2 \n",
    "    | model\n",
    "    | StrOutputParser()\n",
    ")\n",
    "chain2.invoke({\"politician\": \"Barack Obama\", \"language\": \"bangla\"})"
   ]
  },
  {
   "cell_type": "code",
   "execution_count": null,
   "id": "89c83e0b",
   "metadata": {},
   "outputs": [],
   "source": []
  }
 ],
 "metadata": {
  "kernelspec": {
   "display_name": "llmapp",
   "language": "python",
   "name": "python3"
  },
  "language_info": {
   "codemirror_mode": {
    "name": "ipython",
    "version": 3
   },
   "file_extension": ".py",
   "mimetype": "text/x-python",
   "name": "python",
   "nbconvert_exporter": "python",
   "pygments_lexer": "ipython3",
   "version": "3.11.13"
  }
 },
 "nbformat": 4,
 "nbformat_minor": 5
}
